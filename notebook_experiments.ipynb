{
 "cells": [
  {
   "cell_type": "code",
   "execution_count": 1,
   "metadata": {},
   "outputs": [],
   "source": [
    "import numpy as np"
   ]
  },
  {
   "cell_type": "code",
   "execution_count": 23,
   "metadata": {},
   "outputs": [],
   "source": [
    "class Cube:\n",
    "    def __init__(self, height, width, depth, shape):\n",
    "        self.height = height\n",
    "        self.width = width\n",
    "        self.depth = depth\n",
    "        self.shape = shape\n",
    "        \n",
    "    def mount_matrix(self, type_):\n",
    "        arr = list(self.shape)\n",
    "        if type_ == 'number':\n",
    "            arr = [i for i in range(0,self.height*self.width*self.depth)]\n",
    "            \n",
    "        nn = []\n",
    "        height = pit_height\n",
    "        width = pit_width\n",
    "        depth=pit_depth\n",
    "        first = 0\n",
    "        last = height*width\n",
    "        for i in range(1,depth+1):\n",
    "            nn.append(arr[first:last])\n",
    "            first = last\n",
    "            last = height*width*(i+1)\n",
    "\n",
    "        n = []\n",
    "        first = 0\n",
    "        last = width\n",
    "        for i in range(0,height):\n",
    "            m=[]\n",
    "            for j in range(0,depth):\n",
    "                m.append(nn[j][first:last])\n",
    "            n.append(list(np.array(m).flatten()))\n",
    "            first = last\n",
    "            last = first+width\n",
    "        return n\n",
    "    \n",
    "    def get_min_max_height(self, char_shape):\n",
    "        min_height = 0\n",
    "        max_height = 0\n",
    "        for i in range(1,len(char_shape)):\n",
    "            indxs_ant = [i for i,x in enumerate(char_shape[i-1][0]) if x == '.']\n",
    "            indxs_curr = [i for i,x in enumerate(char_shape[i][0]) if x == '.']\n",
    "#             print(indxs_ant,indxs_curr)\n",
    "            common_list = set(indxs_ant).intersection(indxs_curr)\n",
    "            if len(common_list) == 0:\n",
    "                min_height = i+1\n",
    "\n",
    "            if len(common_list) > len(char_shape[0][0])/2:\n",
    "                max_height=i-1\n",
    "                break\n",
    "#             print(i,common_list,len(p_shape[0][0])/2)\n",
    "\n",
    "        return min_height, max_height\n",
    "\n",
    "    def get_prohibted_indexes(self, obj):\n",
    "        ind = set()\n",
    "        for index, elem in enumerate(self.shape):\n",
    "            if elem == obj:\n",
    "                ind.add(index)\n",
    "                if index > self.width * self.depth:\n",
    "                    ind.add(index-self.width*self.depth)\n",
    "        return ind\n",
    "    \n",
    "    \n",
    "    def get_all_possibilities(self,n,pi,prohibited,height_index=0):\n",
    "        layer = n[height_index]\n",
    "        nnn = np.array(layer).reshape(self.depth,self.width)\n",
    "        possibilities = []\n",
    "        for ind,p in enumerate(pi):\n",
    "    #         print(\"p\",p)\n",
    "\n",
    "            entry_shape = np.array(list(p[3]))\n",
    "            entry_shape = entry_shape.reshape(p[2]*p[1],p[0])\n",
    "    #         print(new_width)\n",
    "            if p[1] >= 1:\n",
    "                if p[1] <= self.width:\n",
    "                    for i in range(self.depth-(p[1]-1)):\n",
    "                        first = 0\n",
    "                        last = self.width\n",
    "    #                     print(\"i\",i,nnn[i])\n",
    "                        for j in range(self.width-(p[0]-1)):\n",
    "                            el = nnn[i][first+j:p[0]+first+j]\n",
    "    #                         print(\"j\",el,entry_shape[0])\n",
    "\n",
    "                            ell = [x for ind,x in enumerate(el) if entry_shape[0][ind] == '#']\n",
    "    #                         print(\"j\",el,entry_shape[0])\n",
    "                            if any(x in prohibited for x in ell):\n",
    "                                pass\n",
    "                            else:\n",
    "                                possibilities.append((el,p[4],j,i))\n",
    "                        first=last\n",
    "                        last = self.width+first\n",
    "            if p[1] > 1:\n",
    "                if p[1] <= self.depth:\n",
    "                    nnn = np.rot90(nnn)\n",
    "                    for i in range(self.depth-(p[0]-1)):\n",
    "                        first = 0\n",
    "                        last = self.width\n",
    "    #                     print(\"ii\",i,nnn[i])\n",
    "                        for j in range(self.width-(p[1]-1)):\n",
    "                            el = nnn[i][first+j:p[1]+first+j]\n",
    "                            # print(el,first+j,p[1]+first+j)\n",
    "                            if any(x in prohibited for x in el):\n",
    "                                pass\n",
    "                            else:\n",
    "                                possibilities.append((el,p[4],j,i))\n",
    "                        first=last\n",
    "                        last = self.width+first\n",
    "\n",
    "        return possibilities\n",
    "\n",
    "    def check_bad_good_possibility(self,x,entry,entry_shape,arr_shape,height_index):\n",
    "        for i in range(entry[2]):\n",
    "            for j in range(entry[0]):\n",
    "    #             print(i+height_index,j+x)\n",
    "                if self.depth > 1:\n",
    "                    return True\n",
    "                else:\n",
    "                    if arr_shape[i+height_index][j+x] != '#':\n",
    "                        arr_shape[i+height_index][j+x] = entry_shape[i][j]\n",
    "                    elif arr_shape[i+height_index][j+x] == '#' and entry_shape[i][j] == '#':\n",
    "    #                     print(\"aqui1\")\n",
    "                        return False\n",
    "                    if i+height_index > height_index:\n",
    "                        if entry_shape[i][j] == '#':\n",
    "                            if arr_shape[i+height_index-1][j+x] == '.':\n",
    "    #                             print(\"aqui2\")\n",
    "                                return False\n",
    "\n",
    "        return True\n",
    "    \n",
    "    def get_improved_possibilities(self,possibilities):\n",
    "        good_possibilities = []\n",
    "        bad_possibilities = []\n",
    "        for p in possibilities:\n",
    "    #         p = possibilities[1]\n",
    "            arr_shape=np.array(self.mount_matrix('char'))\n",
    "        \n",
    "            a, pind, x, z = p\n",
    "    #         print(p)\n",
    "            entry = [x for x in pi if int(x[4]) == pind][0]\n",
    "            entry_shape = np.array(list(entry[3]))\n",
    "            entry_shape = entry_shape.reshape(entry[2]*entry[1],entry[0])\n",
    "            good = self.check_bad_good_possibility(x,entry, entry_shape,arr_shape,height_index)\n",
    "            if good:\n",
    "                good_possibilities.append((a, pind, x, z))\n",
    "            else:\n",
    "                bad_possibilities.append((a, pind, x, z))\n",
    "        return good_possibilities, bad_possibilities"
   ]
  },
  {
   "cell_type": "code",
   "execution_count": 24,
   "metadata": {},
   "outputs": [],
   "source": [
    "pit_shape = '###.....................................................................'\n",
    "\n",
    "pi = [(3, 1, 1, '###', 0), (1, 1, 3, '###', 1), (1, 3, 1, '###', 2)]\n",
    "\n",
    "pit_width=3\n",
    "pit_height=8\n",
    "pit_depth=3\n",
    "\n",
    "cube = Cube(pit_height,pit_width,pit_depth,pit_shape)\n"
   ]
  },
  {
   "cell_type": "code",
   "execution_count": 25,
   "metadata": {},
   "outputs": [
    {
     "data": {
      "text/plain": [
       "[[0, 1, 2, 24, 25, 26, 48, 49, 50],\n",
       " [3, 4, 5, 27, 28, 29, 51, 52, 53],\n",
       " [6, 7, 8, 30, 31, 32, 54, 55, 56],\n",
       " [9, 10, 11, 33, 34, 35, 57, 58, 59],\n",
       " [12, 13, 14, 36, 37, 38, 60, 61, 62],\n",
       " [15, 16, 17, 39, 40, 41, 63, 64, 65],\n",
       " [18, 19, 20, 42, 43, 44, 66, 67, 68],\n",
       " [21, 22, 23, 45, 46, 47, 69, 70, 71]]"
      ]
     },
     "execution_count": 25,
     "metadata": {},
     "output_type": "execute_result"
    }
   ],
   "source": [
    "n=cube.mount_matrix('number')\n",
    "n"
   ]
  },
  {
   "cell_type": "code",
   "execution_count": 26,
   "metadata": {},
   "outputs": [
    {
     "data": {
      "text/plain": [
       "[['#', '#', '#', '.', '.', '.', '.', '.', '.'],\n",
       " ['.', '.', '.', '.', '.', '.', '.', '.', '.'],\n",
       " ['.', '.', '.', '.', '.', '.', '.', '.', '.'],\n",
       " ['.', '.', '.', '.', '.', '.', '.', '.', '.'],\n",
       " ['.', '.', '.', '.', '.', '.', '.', '.', '.'],\n",
       " ['.', '.', '.', '.', '.', '.', '.', '.', '.'],\n",
       " ['.', '.', '.', '.', '.', '.', '.', '.', '.'],\n",
       " ['.', '.', '.', '.', '.', '.', '.', '.', '.']]"
      ]
     },
     "execution_count": 26,
     "metadata": {},
     "output_type": "execute_result"
    }
   ],
   "source": [
    "\n",
    "p_shape=cube.mount_matrix('char')\n",
    "p_shape\n"
   ]
  },
  {
   "cell_type": "code",
   "execution_count": 27,
   "metadata": {},
   "outputs": [],
   "source": [
    "min_height,max_height=cube.get_min_max_height(p_shape)"
   ]
  },
  {
   "cell_type": "code",
   "execution_count": 28,
   "metadata": {},
   "outputs": [
    {
     "data": {
      "text/plain": [
       "(2, 1)"
      ]
     },
     "execution_count": 28,
     "metadata": {},
     "output_type": "execute_result"
    }
   ],
   "source": [
    "min_height,max_height"
   ]
  },
  {
   "cell_type": "code",
   "execution_count": 29,
   "metadata": {},
   "outputs": [],
   "source": [
    "prohibited = cube.get_prohibted_indexes(\"#\")"
   ]
  },
  {
   "cell_type": "code",
   "execution_count": 30,
   "metadata": {},
   "outputs": [],
   "source": [
    "height_index = 0\n",
    "possibilities = cube.get_all_possibilities(n,pi,prohibited,height_index)\n"
   ]
  },
  {
   "cell_type": "code",
   "execution_count": 31,
   "metadata": {},
   "outputs": [
    {
     "data": {
      "text/plain": [
       "[(array([24, 25, 26]), 0, 0, 1),\n",
       " (array([48, 49, 50]), 0, 0, 2),\n",
       " (array([24]), 1, 0, 1),\n",
       " (array([25]), 1, 1, 1),\n",
       " (array([26]), 1, 2, 1),\n",
       " (array([48]), 1, 0, 2),\n",
       " (array([49]), 1, 1, 2),\n",
       " (array([50]), 1, 2, 2)]"
      ]
     },
     "execution_count": 31,
     "metadata": {},
     "output_type": "execute_result"
    }
   ],
   "source": [
    "possibilities"
   ]
  },
  {
   "cell_type": "code",
   "execution_count": 32,
   "metadata": {},
   "outputs": [
    {
     "name": "stdout",
     "output_type": "stream",
     "text": [
      "0 0 2\n",
      "(3, 1, 1, '###', 0)\n",
      "[['#' '#' '#']]\n",
      "3\n"
     ]
    }
   ],
   "source": [
    "\n",
    "_, pind, x, z = possibilities[1]\n",
    "\n",
    "print(pind,x,z)\n",
    "\n",
    "entry = pi[pind]\n",
    "print(entry)\n",
    "entry_shape = np.array(list(entry[3]))\n",
    "entry_shape = entry_shape.reshape(entry[2],entry[0])\n",
    "print(entry_shape)\n",
    "\n",
    "new_width = np.count_nonzero(entry_shape[0] == '#')\n",
    "print(new_width)\n"
   ]
  },
  {
   "cell_type": "code",
   "execution_count": 34,
   "metadata": {},
   "outputs": [
    {
     "name": "stdout",
     "output_type": "stream",
     "text": [
      "[(array([24, 25, 26]), 0, 0, 1), (array([48, 49, 50]), 0, 0, 2), (array([24]), 1, 0, 1), (array([25]), 1, 1, 1), (array([26]), 1, 2, 1), (array([48]), 1, 0, 2), (array([49]), 1, 1, 2), (array([50]), 1, 2, 2)]\n"
     ]
    }
   ],
   "source": [
    "good_possibilities, bad_possibilities = cube.get_improved_possibilities(possibilities)\n",
    "\n",
    "# print(arr_shape)\n",
    "\n",
    "print(good_possibilities)"
   ]
  },
  {
   "cell_type": "code",
   "execution_count": 35,
   "metadata": {},
   "outputs": [
    {
     "name": "stdout",
     "output_type": "stream",
     "text": [
      "[]\n"
     ]
    }
   ],
   "source": [
    "print(bad_possibilities)"
   ]
  },
  {
   "cell_type": "code",
   "execution_count": 36,
   "metadata": {},
   "outputs": [
    {
     "data": {
      "text/plain": [
       "[(array([24, 25, 26]), 0, 0, 1),\n",
       " (array([48, 49, 50]), 0, 0, 2),\n",
       " (array([24]), 1, 0, 1),\n",
       " (array([25]), 1, 1, 1),\n",
       " (array([26]), 1, 2, 1),\n",
       " (array([48]), 1, 0, 2),\n",
       " (array([49]), 1, 1, 2),\n",
       " (array([50]), 1, 2, 2)]"
      ]
     },
     "execution_count": 36,
     "metadata": {},
     "output_type": "execute_result"
    }
   ],
   "source": [
    "possibilities"
   ]
  },
  {
   "cell_type": "code",
   "execution_count": null,
   "metadata": {},
   "outputs": [],
   "source": []
  }
 ],
 "metadata": {
  "kernelspec": {
   "display_name": "Python 3 (ipykernel)",
   "language": "python",
   "name": "python3"
  },
  "language_info": {
   "codemirror_mode": {
    "name": "ipython",
    "version": 3
   },
   "file_extension": ".py",
   "mimetype": "text/x-python",
   "name": "python",
   "nbconvert_exporter": "python",
   "pygments_lexer": "ipython3",
   "version": "3.8.10"
  }
 },
 "nbformat": 4,
 "nbformat_minor": 4
}
